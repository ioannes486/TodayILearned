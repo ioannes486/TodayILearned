{
 "cells": [
  {
   "cell_type": "code",
   "execution_count": 1,
   "id": "f0ef18e3",
   "metadata": {},
   "outputs": [
    {
     "name": "stdout",
     "output_type": "stream",
     "text": [
      "hello\n"
     ]
    }
   ],
   "source": [
    "print('hello')"
   ]
  },
  {
   "cell_type": "code",
   "execution_count": null,
   "id": "5a26bcad",
   "metadata": {},
   "outputs": [],
   "source": [
    "stack = [0]* 10\n",
    "top = -1  # 스택이 비어있는 상태\n",
    "\n",
    "\n",
    "# pop과 push는 확인과정 + 연산과정이있다\n",
    "def my_pop():\n",
    "  global top\n",
    "  if top == -1:\n",
    "    print('underflow')  # 비어있으면 top이 0\n",
    "    return 0\n",
    "\n",
    "  else:\n",
    "    top -= 1  # 크기가 정해져있기 때문에 삭제연산은 굳이 하지 얺움\n",
    "    return stack[top+1] # 빼어낸 원소를 반환\n",
    "\n",
    "def my_push(item, size):\n",
    "  global top\n",
    "  top += 1\n",
    "  if top == size:\n",
    "    print('overflow')\n",
    "  else:\n",
    "    stack[top] = item"
   ]
  },
  {
   "cell_type": "code",
   "execution_count": null,
   "id": "308adf4d",
   "metadata": {},
   "outputs": [],
   "source": [
    "# push의 간단한 버전\n",
    "size = 10 # 사이즈\n",
    "stack = [0]*size # 스택\n",
    "top = -1 # top 초기화\n",
    "\n",
    "# push(10, size)\n",
    "top += 1 # 푸시하면 top 1늘리기\n",
    "stack[top] = 20 # 늘린 인덱스에 20삽입하기\n",
    "\n",
    "\n",
    "#pop의 간단한 버전\n",
    "if top > -1:\n",
    "  top -= 1\n",
    "  print(stack[top+1])"
   ]
  },
  {
   "cell_type": "code",
   "execution_count": 2,
   "id": "5ff8f081",
   "metadata": {},
   "outputs": [
    {
     "name": "stdout",
     "output_type": "stream",
     "text": [
      "3\n",
      "2\n",
      "1\n"
     ]
    }
   ],
   "source": [
    "# 가장 간단한 버전\n",
    "stack = []\n",
    "stack.append(1)\n",
    "stack.append(2)\n",
    "stack.append(3)\n",
    "\n",
    "print(stack.pop())\n",
    "print(stack.pop())\n",
    "print(stack.pop())\n"
   ]
  },
  {
   "cell_type": "code",
   "execution_count": null,
   "id": "060cb177",
   "metadata": {},
   "outputs": [],
   "source": [
    "# 크기가 정해진 배열 이용한 push\n",
    "top = -1\n",
    "size = 10\n",
    "stack = [0] * size\n",
    "\n",
    "# push\n",
    "top += 1\n",
    "stack[top] = 1\n",
    "\n",
    "# pop\n",
    "top -= 1\n",
    "print(stack[top+1])\n",
    "\n",
    "# 스택에 원소가 남아있는지 아닌지 확인하려면 stack포인터를 확인해야 한다. 그냥 배열의 크기를 확인하면 안된다.\n"
   ]
  },
  {
   "cell_type": "markdown",
   "id": "6c83625c",
   "metadata": {},
   "source": [
    "### 괄호검사\n",
    "* 여는 괄호가 나오면 푸시\n",
    "* 닫는 괄호가 나오면 pop\n",
    "* 괄호가 끝났는데 스택에 괄호가 남아있으면 오류입\n",
    "* 여는 괄호보다 닫는 괄호가 많으면 언더플로우\n",
    "```python\n",
    "  for x inr arr:\n",
    "    if x in ['\\{','\\(','\\[']\n",
    "```"
   ]
  },
  {
   "cell_type": "code",
   "execution_count": null,
   "id": "5e82d569",
   "metadata": {},
   "outputs": [],
   "source": [
    "pair = {'{':'}'}  # 짝을 맞추는 한가지 방법\n",
    "\n",
    "ans = 1\n",
    "text = '()()(())((()))'\n",
    "\n",
    "top = -1\n",
    "stack = [0]*100\n",
    "for x in text:\n",
    "  # if x in ['(', '{', '[']:\n",
    "  if x == '(':\n",
    "    top += 1\n",
    "    stack[top] = x\n",
    "  # if x in [')', '}', ']']:\n",
    "  elif x == ')':\n",
    "    if top == -1:\n",
    "      print('오류')\n",
    "      ans = 0\n",
    "      break\n",
    "    else:\n",
    "      top -= 1\n",
    "      y = stack[top+1]\n",
    "\n",
    "if top != -1:\n",
    "  ans = 0\n",
    "# 1차 목표 : 연습문제 1번과 2번\n"
   ]
  },
  {
   "cell_type": "markdown",
   "id": "e98b9df9",
   "metadata": {},
   "source": [
    "# Fuction call\n",
    "> 프로그램에서의 함수 호출과 복귀에 따른 수행순서를 관리\n",
    "> 스택은 메모리의 한 종루이다. 스택메모리가 하는 역할 중 하나는 함수의 수행순서를 관리하는 것이다.\n",
    "> 가장 마지막에 호출된 함수가 가장 먼저 실행을 완료하고 복귀하는 후입선출구조로 관리한다;.\n",
    ">\n",
    "\n",
    "\n",
    "메인이 실행되는 원리? 메인은 어떻게 스택에 아무것도 없는데 호출하게 되는가?\n",
    "자바에선 메인 메서드인데 다른 언어에서는 어떤가?\n",
    "\n",
    "그럼 재귀함수는 스택에 어떤 순서로 쌓이지?\n"
   ]
  },
  {
   "cell_type": "code",
   "execution_count": null,
   "id": "c3b6979d",
   "metadata": {},
   "outputs": [],
   "source": []
  }
 ],
 "metadata": {
  "kernelspec": {
   "display_name": "Python 3",
   "language": "python",
   "name": "python3"
  },
  "language_info": {
   "codemirror_mode": {
    "name": "ipython",
    "version": 3
   },
   "file_extension": ".py",
   "mimetype": "text/x-python",
   "name": "python",
   "nbconvert_exporter": "python",
   "pygments_lexer": "ipython3",
   "version": "3.11.9"
  }
 },
 "nbformat": 4,
 "nbformat_minor": 5
}
