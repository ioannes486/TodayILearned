{
 "cells": [
  {
   "cell_type": "code",
   "execution_count": 2,
   "id": "6b6a8441-b0f6-4f60-a02f-6de5e137538b",
   "metadata": {},
   "outputs": [
    {
     "name": "stdout",
     "output_type": "stream",
     "text": [
      "[[0, 0, 0, 0], [0, 10, 0, 0], [0, 0, 0, 20]]\n"
     ]
    }
   ],
   "source": [
    "# 이차원 배열을 정의하는 방법 - 리스트 컴프리헨션\n",
    "arr = [[0] * 4 for _ in range(3)]\n",
    " #     행 정의        열 정의\n",
    "arr[1][1] = 10\n",
    "arr[2][3] = 20\n",
    "print(arr) "
   ]
  },
  {
   "cell_type": "code",
   "execution_count": 14,
   "id": "a76f2e82-b492-4200-a26a-16d5c5c01db8",
   "metadata": {},
   "outputs": [
    {
     "name": "stdout",
     "output_type": "stream",
     "text": [
      "[0, 0, 0, 0]\n",
      "[0, 10, 0, 0]\n",
      "[0, 0, 0, 20]\n"
     ]
    }
   ],
   "source": [
    "n, m = 3,4\n",
    "for x in arr:\n",
    "    print(x)"
   ]
  },
  {
   "cell_type": "code",
   "execution_count": 6,
   "id": "439dbcbc-bcec-4754-9536-9dd675d9d7b9",
   "metadata": {},
   "outputs": [
    {
     "name": "stdout",
     "output_type": "stream",
     "text": [
      "[[0, 0, 0, 0], [0, 0, 0, 0], [0, 0, 0, 0]]\n",
      "[[0, 10, 0, 0], [0, 10, 0, 0], [0, 10, 0, 0]]\n"
     ]
    }
   ],
   "source": [
    "# 얕은 복사\n",
    "arr2 = [[0]*4]*3 # 이렇게 하면 얕은 복사\n",
    "print(arr2)\n",
    "\n",
    "arr2[1][1] = 10\n",
    "arr2[2][1] = 10  # 이럭헤 하면 같은 줄에서 바뀐다.\n",
    "# 다른행으로 보여도 내부적으론 하나의 행만 보이기 때문\n",
    "print(arr2)\n",
    "\n"
   ]
  },
  {
   "cell_type": "code",
   "execution_count": 12,
   "id": "f6aa69b5-1499-4a91-84c9-0c39dcb975a6",
   "metadata": {},
   "outputs": [
    {
     "ename": "NameError",
     "evalue": "name 'N' is not defined",
     "output_type": "error",
     "traceback": [
      "\u001b[31m---------------------------------------------------------------------------\u001b[39m",
      "\u001b[31mNameError\u001b[39m                                 Traceback (most recent call last)",
      "\u001b[36mCell\u001b[39m\u001b[36m \u001b[39m\u001b[32mIn[12]\u001b[39m\u001b[32m, line 5\u001b[39m\n\u001b[32m      1\u001b[39m \u001b[38;5;66;03m#  배열 순회\u001b[39;00m\n\u001b[32m      2\u001b[39m \u001b[38;5;66;03m# 이차원 배열의 모든 원소를 빠짐없이 조사하는 방법\u001b[39;00m\n\u001b[32m      3\u001b[39m \u001b[38;5;66;03m# 이중포문으로 이차원배열은 순회하면 행 우선순회이다\u001b[39;00m\n\u001b[32m      4\u001b[39m \u001b[38;5;66;03m# 문제에 별다른 조건이 없다면 행 우선순회로 간다.\u001b[39;00m\n\u001b[32m----> \u001b[39m\u001b[32m5\u001b[39m \u001b[38;5;28;01mfor\u001b[39;00m i \u001b[38;5;129;01min\u001b[39;00m \u001b[38;5;28mrange\u001b[39m(\u001b[43mN\u001b[49m):  \n\u001b[32m      6\u001b[39m     \u001b[38;5;28;01mfor\u001b[39;00m j \u001b[38;5;129;01min\u001b[39;00m \u001b[38;5;28mrange\u001b[39m(N):\n\u001b[32m      7\u001b[39m         \u001b[38;5;28mprint\u001b[39m(arr[j][i]) \n",
      "\u001b[31mNameError\u001b[39m: name 'N' is not defined"
     ]
    }
   ],
   "source": [
    "#  배열 순회\n",
    "# 이차원 배열의 모든 원소를 빠짐없이 조사하는 방법\n",
    "# 이중포문으로 이차원배열은 순회하면 행 우선순회이다\n",
    "# 문제에 별다른 조건이 없다면 행 우선순회로 간다.\n",
    "for i in range(N):  \n",
    "    for j in range(N):\n",
    "        print(arr[j][i]) "
   ]
  },
  {
   "cell_type": "code",
   "execution_count": 8,
   "id": "5c861ca3-8d13-4727-ac82-3f7c29256865",
   "metadata": {},
   "outputs": [
    {
     "ename": "NameError",
     "evalue": "name 'N' is not defined",
     "output_type": "error",
     "traceback": [
      "\u001b[31m---------------------------------------------------------------------------\u001b[39m",
      "\u001b[31mNameError\u001b[39m                                 Traceback (most recent call last)",
      "\u001b[36mCell\u001b[39m\u001b[36m \u001b[39m\u001b[32mIn[8]\u001b[39m\u001b[32m, line 4\u001b[39m\n\u001b[32m      1\u001b[39m \u001b[38;5;66;03m#  배열 순회\u001b[39;00m\n\u001b[32m      2\u001b[39m \u001b[38;5;66;03m# 이차원 배열의 모든 원소를 빠짐없이 조사하는 방법\u001b[39;00m\n\u001b[32m----> \u001b[39m\u001b[32m4\u001b[39m \u001b[38;5;28;01mfor\u001b[39;00m i \u001b[38;5;129;01min\u001b[39;00m \u001b[38;5;28mrange\u001b[39m(\u001b[43mN\u001b[49m):\n\u001b[32m      5\u001b[39m     \u001b[38;5;28;01mfor\u001b[39;00m j \u001b[38;5;129;01min\u001b[39;00m \u001b[38;5;28mrange\u001b[39m(N):\n\u001b[32m      6\u001b[39m         f(array[i][j])\n",
      "\u001b[31mNameError\u001b[39m: name 'N' is not defined"
     ]
    }
   ],
   "source": [
    "# 행의 합 중 최댓값 구하기\n",
    "max_v = 0\n",
    "for i in range(N):\n",
    "    s = 0\n",
    "    for j in range(N):\n",
    "        s += arr[i][j]\n",
    "\n"
   ]
  },
  {
   "cell_type": "code",
   "execution_count": null,
   "id": "a762a4e3-1dd0-42d3-afea-8b1a18a04ab0",
   "metadata": {},
   "outputs": [],
   "source": [
    "# 배열을 입력받아서 더하기\n",
    "N, M = map(int, input().split())\n",
    "arr = [list(map(int, input().split())) for _ in range(N)]\n",
    "\n",
    "max_v = 0\n",
    "for i in range(N):\n",
    "    s = 0\n",
    "    for j in range(N):\n",
    "        s += arr[i][j]\n"
   ]
  },
  {
   "cell_type": "code",
   "execution_count": 9,
   "id": "0180165f-30a9-4aef-bfbe-917b23f1997d",
   "metadata": {},
   "outputs": [
    {
     "ename": "NameError",
     "evalue": "name 'm' is not defined",
     "output_type": "error",
     "traceback": [
      "\u001b[31m---------------------------------------------------------------------------\u001b[39m",
      "\u001b[31mNameError\u001b[39m                                 Traceback (most recent call last)",
      "\u001b[36mCell\u001b[39m\u001b[36m \u001b[39m\u001b[32mIn[9]\u001b[39m\u001b[32m, line 3\u001b[39m\n\u001b[32m      1\u001b[39m \u001b[38;5;66;03m# 열 우선순회\u001b[39;00m\n\u001b[32m----> \u001b[39m\u001b[32m3\u001b[39m \u001b[38;5;28;01mfor\u001b[39;00m i \u001b[38;5;129;01min\u001b[39;00m \u001b[38;5;28mrange\u001b[39m(\u001b[43mm\u001b[49m):\n\u001b[32m      4\u001b[39m     \u001b[38;5;28;01mfor\u001b[39;00m j \u001b[38;5;129;01min\u001b[39;00m \u001b[38;5;28mrange\u001b[39m(n):\n\u001b[32m      5\u001b[39m         f(arr[j][i]) \u001b[38;5;66;03m# 필요한 연산 수행 - j,i의 순서가 바뀌어있음\u001b[39;00m\n",
      "\u001b[31mNameError\u001b[39m: name 'm' is not defined"
     ]
    }
   ],
   "source": [
    "# 열 우선순회\n",
    "\n",
    "for i in range(m):\n",
    "    for j in range(n):\n",
    "        print(arr[j][i]) # 필요한 연산 수행 - j,i의 순서가 바뀌어있음\n"
   ]
  },
  {
   "cell_type": "code",
   "execution_count": 15,
   "id": "416a36f3-ee9e-4cac-ac7c-1a2ad95a3b02",
   "metadata": {},
   "outputs": [
    {
     "name": "stdout",
     "output_type": "stream",
     "text": [
      "0\n",
      "0\n",
      "0\n",
      "0\n",
      "0\n",
      "0\n",
      "10\n",
      "0\n",
      "0\n",
      "0\n",
      "0\n",
      "20\n"
     ]
    }
   ],
   "source": [
    "# 지그재그 순회\n",
    "for i in range(n):\n",
    "    for j in range(m):\n",
    "        print(arr[i][j + (m-1-2*j)*(i%2)])\n"
   ]
  },
  {
   "cell_type": "code",
   "execution_count": null,
   "id": "01b6a61d-3d6e-4458-9194-8f94e4f352ad",
   "metadata": {},
   "outputs": [],
   "source": [
    "N = 10\n",
    "arr = [[1,2,3,4,5,5,6,4,3,5]* 10]\n",
    "\n",
    "di = [0,1,0,-1]\n",
    "dj = [1,0,-1,0]\n",
    "\n",
    "for j in range(N-1):\n",
    "    for d in range(N-1):\n",
    "        ni = i + di[d]\n",
    "        nj = j + dj[d]\n",
    "        if 0 <= ni < N and 0<=N\n",
    "            # 유효한 인덱스면 연산하셈\n",
    "\n",
    "for i in range(N):\n",
    "    for j in range(N):\n",
    "        for di, dj in [[0,1],[1,0],[0,-1],[-1,0]]\n",
    "        \n"
   ]
  }
 ],
 "metadata": {
  "kernelspec": {
   "display_name": "Python 3 (ipykernel)",
   "language": "python",
   "name": "python3"
  },
  "language_info": {
   "codemirror_mode": {
    "name": "ipython",
    "version": 3
   },
   "file_extension": ".py",
   "mimetype": "text/x-python",
   "name": "python",
   "nbconvert_exporter": "python",
   "pygments_lexer": "ipython3",
   "version": "3.11.9"
  }
 },
 "nbformat": 4,
 "nbformat_minor": 5
}
