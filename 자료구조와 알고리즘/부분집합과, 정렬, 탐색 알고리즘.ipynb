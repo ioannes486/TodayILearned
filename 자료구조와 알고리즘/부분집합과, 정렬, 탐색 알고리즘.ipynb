{
 "cells": [
  {
   "cell_type": "markdown",
   "id": "5dde4ce1-e41e-427b-b030-e2e645e7fc96",
   "metadata": {},
   "source": [
    "# 부분집합\n",
    "\n",
    "### 부분집합 문제란?\n",
    "\n",
    "> 유한 개의 정수로 이루어진 집합이 있을 때 이 집합의 부분집합 중에서 조건에 맞는 경우를 찾는 문제\n",
    "> 예) 그 집합의 원소를 모두 더한 값이 0이 되는 경우가 있는지를 알아내는 문제\n",
    "\n",
    "### 부분집합 생성하기\n",
    "\n",
    "- 완전검색 기법으로 부분집합 합 문제 풀기\n",
    "  \n",
    "- 주어진 집합의 부분집합을 생성하는 방법 생각해보기\n",
    "  \n",
    "- 집합의 원소가 n개 일때 공집합을 포함한 부분집합의 수는 2^n개이다\n",
    "  \n",
    "\n",
    "### 부분집합의 원소를 표현하는 방법\n",
    "\n",
    "비트의 배열로 부분집합의 원소를 표현할 수 있다. 인덱싱을 해서 비트배열의 인덱스에 해당하는 원소가 부분집합에 포함되는 여부를 나타낸다\n",
    "\n",
    "![](file://C:\\Users\\SSAFY\\AppData\\Roaming\\marktext\\images\\2025-08-07-09-07-15-image.png?msec=1754525235426)\n",
    "\n",
    "- arr[i] 원소가 부분집합에 포함되지 않으면 bit[i] == 0\n",
    "  \n",
    "- arr[i] 원소가 부분집합에 포함되면 bit[i] == 1\n",
    "  \n",
    "- 어떤 원소가 포함되는지 포함되지 않는 지만 표시해놓기\n"
   ]
  },
  {
   "cell_type": "code",
   "execution_count": 1,
   "id": "15e3b35c-2452-4869-b31c-e1bff1d03ebc",
   "metadata": {},
   "outputs": [
    {
     "ename": "IndentationError",
     "evalue": "unexpected indent (2434760569.py, line 4)",
     "output_type": "error",
     "traceback": [
      "  \u001b[36mCell\u001b[39m\u001b[36m \u001b[39m\u001b[32mIn[1]\u001b[39m\u001b[32m, line 4\u001b[39m\n\u001b[31m    \u001b[39m\u001b[31mfor (j in range(2)\u001b[39m\n    ^\n\u001b[31mIndentationError\u001b[39m\u001b[31m:\u001b[39m unexpected indent\n"
     ]
    }
   ],
   "source": [
    "# 각 부분집합을 전부 출력하는 방법\n",
    "bit = [0, 0, 0, 0]\n",
    "for i in range(2) :\n",
    "    bit[0] = i\n",
    "        for (j in range(2)\n",
    "            bit[1] = j\n",
    "                for k in range(2)\n",
    "                    bit[2] = k\n",
    "                        for l in range(2):\n",
    "                            bit[3] = l\n",
    "                            print_subset(bit)\n",
    "\n",
    "\n",
    "def print_subset():\n",
    "    for i in range(4):\n",
    "        if bit[i]:\n",
    "            print(arr[i]. end = \" \")\n",
    "    print(bit)\n",
    "\n",
    "arr = [7,5,8,1]\n"
   ]
  },
  {
   "cell_type": "markdown",
   "id": "9f6255b7-6be5-48d6-898d-b5930b5643b5",
   "metadata": {},
   "source": [
    "### 비트연산자\n",
    "* `&` : 비트 단위로 and 연산\n",
    "* `|` : 비트 단위로 or 연산\n",
    "* `<<` : 피연산자의 비트 열을 왼쪽으로 이동\n",
    "* `>>` : 피연산자의 비트열을 오른쪽으로 이동\n",
    "\n",
    "### << 연산자 활용\n",
    "* 1<<n : 2^n, 즉 원소가 n개일 경우의 모든 부분집합의 수를 의미\n",
    "* 컴퓨터 구조를 참조할 것\n",
    "* "
   ]
  },
  {
   "cell_type": "code",
   "execution_count": 3,
   "id": "054fefa2-4719-4ddf-8df7-83c624b61b09",
   "metadata": {},
   "outputs": [
    {
     "name": "stdout",
     "output_type": "stream",
     "text": [
      "\n",
      "1 \n",
      "2 \n",
      "1 2 \n",
      "3 \n",
      "1 3 \n",
      "2 3 \n",
      "1 2 3 \n",
      "\n"
     ]
    }
   ],
   "source": [
    "# 비트 연산으로 부분집합 생성하기\n",
    "arr = [1,2,3]\n",
    "\n",
    "n = len(arr)\n",
    "\n",
    "for i in range(1<<n):\n",
    "    for j in range(n): # i의 타입이 모징?\n",
    "        if i & (1<<j):\n",
    "            print(arr[j], end=\" \")\n",
    "            print(f'  : {.06b}')\n",
    "\n",
    "    print()\n",
    "print()"
   ]
  },
  {
   "cell_type": "code",
   "execution_count": 5,
   "id": "5ffe44e3-d62a-4fe0-aab8-d39713b16610",
   "metadata": {},
   "outputs": [
    {
     "name": "stdout",
     "output_type": "stream",
     "text": [
      "<class 'int'> <class 'int'>\n",
      "<class 'int'> <class 'int'>\n",
      "<class 'int'> <class 'int'>\n",
      "\n",
      "<class 'int'> <class 'int'>\n",
      "<class 'int'> <class 'int'>\n",
      "<class 'int'> <class 'int'>\n",
      "\n",
      "<class 'int'> <class 'int'>\n",
      "<class 'int'> <class 'int'>\n",
      "<class 'int'> <class 'int'>\n",
      "\n",
      "<class 'int'> <class 'int'>\n",
      "<class 'int'> <class 'int'>\n",
      "<class 'int'> <class 'int'>\n",
      "\n",
      "<class 'int'> <class 'int'>\n",
      "<class 'int'> <class 'int'>\n",
      "<class 'int'> <class 'int'>\n",
      "\n",
      "<class 'int'> <class 'int'>\n",
      "<class 'int'> <class 'int'>\n",
      "<class 'int'> <class 'int'>\n",
      "\n",
      "<class 'int'> <class 'int'>\n",
      "<class 'int'> <class 'int'>\n",
      "<class 'int'> <class 'int'>\n",
      "\n",
      "<class 'int'> <class 'int'>\n",
      "<class 'int'> <class 'int'>\n",
      "<class 'int'> <class 'int'>\n",
      "\n",
      "\n"
     ]
    }
   ],
   "source": [
    "# 그렇다면 i의 타입은?\n",
    "arr = [1,2,3]\n",
    "\n",
    "n = len(arr)\n",
    "\n",
    "for i in range(1<<n):\n",
    "    for j in range(n): # i와 j는 횟수\n",
    "        print(type(i), type(j))\n",
    "        print\n",
    "\n",
    "    print()\n",
    "print()"
   ]
  },
  {
   "cell_type": "markdown",
   "id": "65394968-a708-4127-841f-7fbb9b5de59b",
   "metadata": {},
   "source": [
    "# 검색\n",
    "> 저장되어 있는 자료 중에서 원하는 항목을 찾는 작업,목적하는 탐색 키를 가진 항목을 찾는 것\n",
    "\n",
    "\n",
    "### 순차 검색\n",
    "> 배열이나 연결리스트 틍 순차구조로 구현된 자료구조에서 원하는 항목을 찾을 때 유용하다.\n",
    "> 자료구조가 정렬되어 있는 경우와 그렇지 않은 경우로 나뉜다.\n",
    "\n",
    "\n",
    "#### 정렬이 되어있지 않은 경우\n",
    "* 첫번째 원소부터 `순서대로` 검색대상와 `키 값이 같은 원소`가 있는지 비교하면서 찾는다\n",
    "* 키값이 동일한 원소를 찾으면 그 원소의 `인덱스`를 반환한다\n",
    "* 자료구조의 마지막에 이를 때까지 검색대상을 찾지 못하면 검색을 실패한다\n",
    "\n",
    "\n",
    "#### 순차검색 - 정렬 x의 특징\n",
    "> 찾고자 하는 원소의 순서에 따라 비교횟수가 결정된다.\n",
    "\n",
    "\n",
    "\n",
    "* 크기가 n인 시퀀스를 n번 연산할 때 비교연산횟수는 최소 1부터 최대 n까지이다 이를 나타내면\n",
    "*  `1+2+3+...+n == n(n+1)/2`\n",
    "*  이때 연산을 n번했으므로 n으로 총연산횟수를 나눠주면 평균비교횟수는 `(n+1)/2`이 된다\n",
    "*  최대 n번을 연산하므로 최악의 시간복잡도는 `O(n)`이다"
   ]
  },
  {
   "cell_type": "code",
   "execution_count": 9,
   "id": "3021bb57-e5a1-4cd1-94fa-480c366da253",
   "metadata": {},
   "outputs": [
    {
     "name": "stdout",
     "output_type": "stream",
     "text": [
      "-1\n",
      "4\n"
     ]
    }
   ],
   "source": [
    "#  구현 예\n",
    "arr = [4,9,11,23,2,19,7]\n",
    "n = len(arr)\n",
    "def sequential_search(arr,n,key): # 배열, 배열의 크기, 배열에서 찾는 값\n",
    "    i = 0\n",
    "    while i < n and arr[i] != key:\n",
    "        i = i+1\n",
    "    if i<n: return i\n",
    "    else: return -1\n",
    "\n",
    "print(sequential_searcu(arr,n,8))\n",
    "print(sequential_searcu(arr,n,2))"
   ]
  },
  {
   "cell_type": "markdown",
   "id": "ecd8b145-3e21-4060-a97d-91795706f7e9",
   "metadata": {},
   "source": [
    "### 정렬되어 있는 경우\n",
    "> 찾고자 하는 원소의 순서에 따라 비교횟수가 결정된다.\n",
    "\n",
    "* 정렬이 되어있으므로 검색실패를 반환하는 경우에도 평균 비교횟수가 반으로 줄어든다.\n",
    "* key보다 크면 검색을 중단하기 때문\n",
    "  "
   ]
  },
  {
   "cell_type": "code",
   "execution_count": null,
   "id": "339fa287-f6ee-44bf-be73-0fb9f98fd923",
   "metadata": {},
   "outputs": [],
   "source": [
    "#  구현 예\n",
    "arr = [4,9,11,23,2,19,7]\n",
    "n = len(arr)\n",
    "def sequential_search(arr,n,key): # 배열, 배열의 크기, 배열에서 찾는 값\n",
    "    i = 0\n",
    "    while i < n and arr[i] != key:\n",
    "        i = i+1\n",
    "    if i<n: return i\n",
    "    else: return -1\n",
    "\n",
    "print(sequential_searcu(arr,n,8))\n",
    "print(sequential_searcu(arr,n,2))"
   ]
  },
  {
   "cell_type": "markdown",
   "id": "1f03b3ac-fd63-4c98-9a74-9e0c601048c6",
   "metadata": {},
   "source": [
    "### 이진 검색\n",
    "* 자료의 가운데에 있는 항목의 키 값과 비교하여 다음 검색의 위치를 결정하고 검색을 계속 진행하는 방법\n",
    "* 목적 키를 찾을 때까지 이진검색을 순환적으로 반복 수행함으로써 검색 범위를 반으로 줄여가면서 보다 빠르게 검색을 수행합니다\n",
    "* 이진 검색을 하기 위해서는 자료가 정렬된 상태여야 "
   ]
  },
  {
   "cell_type": "code",
   "execution_count": null,
   "id": "191874ef-31f1-495d-b1c5-a41d1a4a458b",
   "metadata": {},
   "outputs": [],
   "source": [
    "#End of File"
   ]
  }
 ],
 "metadata": {
  "kernelspec": {
   "display_name": "Python 3 (ipykernel)",
   "language": "python",
   "name": "python3"
  },
  "language_info": {
   "codemirror_mode": {
    "name": "ipython",
    "version": 3
   },
   "file_extension": ".py",
   "mimetype": "text/x-python",
   "name": "python",
   "nbconvert_exporter": "python",
   "pygments_lexer": "ipython3",
   "version": "3.11.9"
  }
 },
 "nbformat": 4,
 "nbformat_minor": 5
}
