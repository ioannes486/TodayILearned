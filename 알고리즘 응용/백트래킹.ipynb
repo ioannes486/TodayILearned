{
 "cells": [
  {
   "cell_type": "code",
   "execution_count": 9,
   "id": "181c7f93",
   "metadata": {},
   "outputs": [
    {
     "name": "stdout",
     "output_type": "stream",
     "text": [
      "1\n"
     ]
    }
   ],
   "source": [
    "def check(row, col):\n",
    "    #  같은 열에 놓은 젹이 있는가?\n",
    "    for i in range(row):\n",
    "        if visited[i][col]:\n",
    "            return False\n",
    "    \n",
    "\n",
    "    # 좌상단 대각선에 놓은 적이 있는가?\n",
    "    i, j = row -1, col -1\n",
    "\n",
    "    while i >= 0 and j >= 0:\n",
    "        if visited[i][j]:\n",
    "            return False\n",
    "    \n",
    "        i -= 1\n",
    "        j -= 1\n",
    "\n",
    "    i, j = row -1, col +1\n",
    "    while i >= 0 and j < 0:\n",
    "        if visited[i][j]:\n",
    "            return False\n",
    "    \n",
    "        i -= 1\n",
    "        j += 1\n",
    "\n",
    "    \n",
    "\n",
    "\n",
    "    # 우상단 대각선에 놓은 적이 있는가?\n",
    "\n",
    "    return True \n",
    "\n",
    "\n",
    "def recur(row):\n",
    "    global answer\n",
    "    if row == N:\n",
    "        answer += 1\n",
    "        return\n",
    "    \n",
    "    for col in range(N):\n",
    "        if check(row, col) is False:\n",
    "            continue\n",
    "\n",
    "    visited[row][col] = 1\n",
    "    path.append(col)\n",
    "    recur(row + 1)\n",
    "    path.pop()\n",
    "    visited[row][col] = 0  # 이차원으로 본 후 순차적으로 말을 놓을 때 앞에 놓았던 말만 검사하면 된다.\n",
    "\n",
    "\n",
    "N = 4\n",
    "answer = 0\n",
    "path = []\n",
    "visited = [[0]*N for _ in range(N)]\n",
    "recur(0)\n",
    "\n",
    "print(answer)\n"
   ]
  },
  {
   "cell_type": "code",
   "execution_count": null,
   "id": "125b9624",
   "metadata": {},
   "outputs": [],
   "source": [
    "ㅠ\n",
    "# 연습문제 3\n",
    "\n",
    "arr = [1,2,1,3,2,5,3,5]\n",
    "\n",
    "node = [[] for _ in range(14)]\n",
    "\n",
    "\n",
    "for i in range(0, len(arr), 2):\n",
    "  p"
   ]
  },
  {
   "cell_type": "markdown",
   "id": "1eaa4284",
   "metadata": {},
   "source": [
    "# 이진탐색 트리\n",
    "탐색작업을 효율적으로 하기 위한 자료구조"
   ]
  }
 ],
 "metadata": {
  "kernelspec": {
   "display_name": "Python 3",
   "language": "python",
   "name": "python3"
  },
  "language_info": {
   "codemirror_mode": {
    "name": "ipython",
    "version": 3
   },
   "file_extension": ".py",
   "mimetype": "text/x-python",
   "name": "python",
   "nbconvert_exporter": "python",
   "pygments_lexer": "ipython3",
   "version": "3.11.9"
  }
 },
 "nbformat": 4,
 "nbformat_minor": 5
}
