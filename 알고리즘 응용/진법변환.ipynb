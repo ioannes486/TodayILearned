{
 "cells": [
  {
   "cell_type": "code",
   "execution_count": null,
   "id": "b972f7a3",
   "metadata": {},
   "outputs": [
    {
     "name": "stdout",
     "output_type": "stream",
     "text": [
      "100\n"
     ]
    }
   ],
   "source": [
    "#decimal to another\n",
    "\n",
    "# 10 진수를 2진수와 16진수로 변환\n",
    "def decimal_to_binary(n):\n",
    "  binary_number = \"\"\n",
    "\n",
    "  while n > 0:\n",
    "\n",
    "    modulo = n % 2\n",
    "    binary_number = str(modulo) + binary_number\n",
    "\n",
    "    n = n //2\n",
    "\n",
    "  return binary_number\n",
    "\n",
    "\n",
    "print(decimal_to_binary(4))\n"
   ]
  },
  {
   "cell_type": "code",
   "execution_count": null,
   "id": "0a927928",
   "metadata": {},
   "outputs": [
    {
     "name": "stdout",
     "output_type": "stream",
     "text": [
      "10010101\n"
     ]
    }
   ],
   "source": [
    "# 재귀호출로 구현하기\n",
    "target = 149\n",
    "def f(target):\n",
    "  if target ==1:\n",
    "    return '1'\n",
    "  \n",
    "  else:\n",
    "    return f(target // 2) + str(target % 2)\n",
    "  \n",
    "print(f(149))"
   ]
  },
  {
   "cell_type": "code",
   "execution_count": null,
   "id": "e9ea8828",
   "metadata": {},
   "outputs": [
    {
     "name": "stdout",
     "output_type": "stream",
     "text": [
      "1F\n"
     ]
    }
   ],
   "source": [
    "# decimal to another\n",
    "\n",
    "# 10 진수를 16진수로 변환\n",
    "def decimal_to_hexadecimal(n):\n",
    "  hex_digits = \"0123456789ABCDEF\"\n",
    "  binary_number = \"\"\n",
    "\n",
    "  if n == 0:\n",
    "    return 0\n",
    "\n",
    "  while n > 0:\n",
    "    modulo = n % 16\n",
    "    binary_number = hex_digits[modulo] + binary_number\n",
    "\n",
    "    n = n // 16\n",
    "\n",
    "  return binary_number\n",
    "# 재귀호출로 구현하기(과제)\n",
    "\n",
    "\n",
    "print(decimal_to_hexadecimal(31))"
   ]
  },
  {
   "cell_type": "code",
   "execution_count": null,
   "id": "fbc92886",
   "metadata": {},
   "outputs": [
    {
     "name": "stdout",
     "output_type": "stream",
     "text": [
      "29\n"
     ]
    }
   ],
   "source": [
    "# 2진수를 10진수로 변환하기\n",
    "def binary_to_decimal(binary_str):\n",
    "  decimal_number = 0\n",
    "  pow = 0\n",
    "  for digit in reversed(binary_str):\n",
    "    if digit == \"1\":\n",
    "      decimal_number += 2** pow\n",
    "\n",
    "    pow += 1\n",
    "\n",
    "  return decimal_number\n",
    "\n",
    "  \n",
    "print(binary_to_decimal('11101'))"
   ]
  },
  {
   "cell_type": "code",
   "execution_count": null,
   "id": "1ae6c71b",
   "metadata": {},
   "outputs": [],
   "source": [
    "# 배열을 정수로 변환하기\n",
    "\n",
    "def itoa(num):\n",
    "  result = []\n",
    "  while num != 0:\n",
    "    result.append(num % 10)\n",
    "    num //= 10\n",
    "    result.reverse()\n",
    "  return result\n",
    "\n",
    "def atoi(lst):\n",
    "  result = 0\n",
    "  for i in range(len(lst)):\n",
    "    result = result * 10 + lst[i]\n",
    "  return result\n",
    "\n",
    "\n",
    "# 정수를 리스트로 바꾸기\n",
    "number = 123\n",
    "lst = itoa(number)\n",
    "\n",
    "lst[0], lst[2] = lst[2], lst[0]\n",
    "print(atoi(lst))\n"
   ]
  },
  {
   "cell_type": "code",
   "execution_count": 11,
   "id": "dc8198e7",
   "metadata": {},
   "outputs": [
    {
     "name": "stdout",
     "output_type": "stream",
     "text": [
      "합이 10인 부분집합 [1, 2, 3, 4]\n"
     ]
    }
   ],
   "source": [
    "# 전체 부분집합 구하기\n",
    "arr = [1,2,3,4]\n",
    "for i in range(1 <<  len(arr)):\n",
    "\n",
    "  subset = []\n",
    "  total = 0\n",
    "  for idx in range(len(arr)):\n",
    "    if i & (1<< idx):\n",
    "      subset.append(arr[idx])\n",
    "      total += arr[idx]\n",
    "\n",
    "  if total == 10:\n",
    "    print(f\"합이 10인 부분집합 {subset}\")\n"
   ]
  },
  {
   "cell_type": "code",
   "execution_count": null,
   "id": "a94929ec",
   "metadata": {},
   "outputs": [],
   "source": [
    "# 비트연산을 어떻게 활용할까?\n",
    "\n",
    "def set_state(state, flag):\n",
    "  return state | flag\n",
    "\n",
    "def unset_state(state, flag):\n",
    "  return state & ~flag"
   ]
  },
  {
   "cell_type": "code",
   "execution_count": null,
   "id": "10946fd8",
   "metadata": {},
   "outputs": [],
   "source": [
    "visited = 0\n",
    "\n"
   ]
  }
 ],
 "metadata": {
  "kernelspec": {
   "display_name": "Python 3",
   "language": "python",
   "name": "python3"
  },
  "language_info": {
   "codemirror_mode": {
    "name": "ipython",
    "version": 3
   },
   "file_extension": ".py",
   "mimetype": "text/x-python",
   "name": "python",
   "nbconvert_exporter": "python",
   "pygments_lexer": "ipython3",
   "version": "3.11.9"
  }
 },
 "nbformat": 4,
 "nbformat_minor": 5
}
