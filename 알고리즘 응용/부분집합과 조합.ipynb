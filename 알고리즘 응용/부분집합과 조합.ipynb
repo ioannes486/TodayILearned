{
 "cells": [
  {
   "cell_type": "markdown",
   "id": "5384431e",
   "metadata": {},
   "source": [
    "# 부분집합\n",
    "### 집합에서 부분집합을 찾아내는 구현 방법\n",
    "1. 완전탐색\n",
    "\n",
    "2. 바이너리 카운팅"
   ]
  },
  {
   "cell_type": "code",
   "execution_count": null,
   "id": "9b4a4b98",
   "metadata": {},
   "outputs": [],
   "source": [
    "# 3명의 친구 부분집합 찾기\n",
    "arr = [\"o\",\"x\"]\n",
    "\n",
    "\n",
    "name = ['MIN', 'CO','TIM']\n",
    "path= []\n",
    "\n",
    "def recur(cnt):\n",
    "  # 종료조건\n",
    "  if cnt == 3:\n",
    "\tprint(*path)\n",
    "\treturn\n",
    "  # 재귀호출 파트\n",
    "  # 부분집합에 포함되는 경우(o를 추가)\n",
    "  path.append(arr[0])\n",
    "  recur(cnt+1)\n",
    "  path.pop()\n",
    "\n",
    "\n",
    "  # 포함되지 않는 경우(x를 추가)\n",
    "  path.append(arr[1])\n",
    "  recur(cnt+1)\n",
    "  path.pop()\n",
    "\n",
    "recur(0)"
   ]
  },
  {
   "cell_type": "code",
   "execution_count": null,
   "id": "ef9a025e",
   "metadata": {},
   "outputs": [
    {
     "name": "stdout",
     "output_type": "stream",
     "text": [
      "깊이 : 0, path의 아이디 : 2115068448192, path : []\n",
      "깊이 : 1, path의 아이디 : 2115068448192, path : []\n",
      "깊이 : 2, path의 아이디 : 2115068448192, path : []\n",
      "깊이 : 2, path의 아이디 : 2115068449216, path : ['CO']\n",
      "깊이 : 1, path의 아이디 : 2115067876608, path : ['MIN']\n",
      "깊이 : 2, path의 아이디 : 2115067876608, path : ['MIN']\n",
      "깊이 : 2, path의 아이디 : 2115068449216, path : ['MIN', 'CO']\n"
     ]
    }
   ],
   "source": [
    "# 인자로 path를 전달하기\n",
    "name = ['MIN', 'CO', 'TIM']\n",
    "def recur(cnt, subset):\n",
    "\tprint(f\"깊이 : {cnt}, path의 아이디 : {id(subset)}, path : {subset}\")\n",
    "\tif cnt == 3:\n",
    "\t\treturn\n",
    "\t\n",
    "\trecur(cnt+1, subset)\n",
    "\trecur(cnt+1, subset + [name[cnt]])\n",
    "\n",
    "recur(0, [])"
   ]
  },
  {
   "cell_type": "code",
   "execution_count": null,
   "id": "11ee4fb0",
   "metadata": {},
   "outputs": [],
   "source": [
    "# 바이너리 카운팅\n",
    "# 기존 방법\n",
    "arr = [1,2,3,4]\n",
    "for i in range(1 << len(arr)):\n",
    "    for idx in range(len(arr)):\n",
    "        if i & (1 << idx):\n",
    "            print(arr[idx], end=\" \")\n",
    "    print()"
   ]
  },
  {
   "cell_type": "code",
   "execution_count": null,
   "id": "797f1765",
   "metadata": {},
   "outputs": [],
   "source": [
    "# 새로운 방법\n",
    "# 각 비트를 보는 것은 동일 한데 맨 오른쪽만 보면 될 것이냐? 아니면 하나씩 옮기면서 할 것이냐?\n",
    "arr = [1,2,3,4]\n",
    "def get_sub(tar):\n",
    "  print(f\"target = {tar}\", end=' / ')\n",
    "  for i in range(len(arr)):\n",
    "    if tar & 0x1: # 왜 하필 16진수 1일까? - 암묵적인 룰: 비트 연산임을 명시하는 강조법(사실 1, 0b1, 0b0001 다 된다.)\n",
    "        print(arr[i], end=\" \")\n",
    "    tar >>= 1\n",
    "\n",
    "\n",
    "for target in range(1 << len(arr)):\n",
    "   print"
   ]
  },
  {
   "cell_type": "markdown",
   "id": "62ae60a4",
   "metadata": {},
   "source": [
    "# 조합\n",
    "n개 중 r개룰 순서없이 고르는 방법"
   ]
  },
  {
   "cell_type": "code",
   "execution_count": null,
   "id": "db698a2f",
   "metadata": {},
   "outputs": [
    {
     "name": "stdout",
     "output_type": "stream",
     "text": [
      "A B C\n",
      "A B D\n",
      "A B E\n",
      "A C D\n",
      "A C E\n",
      "A D E\n",
      "B C D\n",
      "B C E\n",
      "B D E\n",
      "C D E\n"
     ]
    }
   ],
   "source": [
    "arr = ['A','B','C','D','E']\n",
    "n = 3\n",
    "path = []\n",
    "# 재귀는 시간복잡도와 공간복잡도를 많이 크게 만들 수 없다. 그래서 문제가 간단하게 나온다.\n",
    "def recur(cnt, start):\n",
    "    if cnt == n:\n",
    "        print(*path)\n",
    "        return\n",
    "    \n",
    "    for i in range(start, len(arr)):\n",
    "        path.append(arr[i])\n",
    "        recur(cnt + 1, i+1)\n",
    "        path.pop()\n",
    "\n",
    "recur(0, 0)\n"
   ]
  },
  {
   "cell_type": "markdown",
   "id": "30c79e4c",
   "metadata": {},
   "source": [
    "# 그리디\n",
    "규칙성을 찾아야 한다\n",
    "1. 탐욕적 선택 조건\n",
    "   - 각 단계의 최적해 선택이 이후 단계 선택에 영향을 주지 않음\n",
    "   - 즉, 각 단계 규칙이 변경되면 안된다.\n",
    "   - 동전 문제 예시\n",
    "     - 첫번째 단계에서 가장 큰 동전 500원 가능한 만큼 주자\n",
    "     - 두번째 단계에서\n",
    "     - => 각 단게를 진행하면서 규칙이 유지\n",
    "2. 최적 부분 구조\n",
    "   - 각 단계의 최적해 선택을 합하면 전체 문제의 해결책이 되어야 한다.\n",
    "   - 증명을 통해 해결\n",
    "\n",
    "### 특징\n",
    "- 정렬이 같이 나오곤 한다\n",
    "- 튜플이라면? 인스턴스 리스트? 역순이라면?\n",
    "- 길이가 우선 정렬, 같은 길이는 사전 순으로 정렬\n",
    "- list.sort() vs sorted()\n",
    "\n"
   ]
  },
  {
   "cell_type": "code",
   "execution_count": null,
   "id": "71810c99",
   "metadata": {},
   "outputs": [
    {
     "name": "stdout",
     "output_type": "stream",
     "text": [
      "8\n"
     ]
    }
   ],
   "source": [
    "# 동전문제 구현\n",
    "coin_list = [10,50,500,100]\n",
    "target = 1730\n",
    "result = 0\n",
    "coin_list.sort(reverse = True)\n",
    "\n",
    "for coin in coin_list:\n",
    "  possible_cnt = target //coin\n",
    "\n",
    "  result += possible_cnt\n",
    "  target -= coin * possible_cnt\n",
    "\n",
    "print(result)"
   ]
  }
 ],
 "metadata": {
  "kernelspec": {
   "display_name": "Python 3",
   "language": "python",
   "name": "python3"
  },
  "language_info": {
   "codemirror_mode": {
    "name": "ipython",
    "version": 3
   },
   "file_extension": ".py",
   "mimetype": "text/x-python",
   "name": "python",
   "nbconvert_exporter": "python",
   "pygments_lexer": "ipython3",
   "version": "3.11.9"
  }
 },
 "nbformat": 4,
 "nbformat_minor": 5
}
